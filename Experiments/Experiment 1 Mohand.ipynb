{
 "cells": [
  {
   "cell_type": "code",
   "id": "initial_id",
   "metadata": {
    "collapsed": true,
    "ExecuteTime": {
     "end_time": "2025-08-21T22:28:49.819766Z",
     "start_time": "2025-08-21T22:28:42.174229Z"
    }
   },
   "source": [
    "import kagglehub\n",
    "\n",
    "# Download latest version\n",
    "path = kagglehub.dataset_download(\"kelvinobiri/credit-card-transactions\")\n",
    "\n",
    "print(\"Path to dataset files:\", path)"
   ],
   "outputs": [
    {
     "name": "stderr",
     "output_type": "stream",
     "text": [
      "/Users/mohandsabry/PycharmProjects/Heart-Disease-Classification/.venv/lib/python3.12/site-packages/tqdm/auto.py:21: TqdmWarning: IProgress not found. Please update jupyter and ipywidgets. See https://ipywidgets.readthedocs.io/en/stable/user_install.html\n",
      "  from .autonotebook import tqdm as notebook_tqdm\n"
     ]
    },
    {
     "name": "stdout",
     "output_type": "stream",
     "text": [
      "Downloading from https://www.kaggle.com/api/v1/datasets/download/kelvinobiri/credit-card-transactions?dataset_version_number=1...\n"
     ]
    },
    {
     "name": "stderr",
     "output_type": "stream",
     "text": [
      "100%|██████████| 5.96M/5.96M [00:03<00:00, 1.61MB/s]"
     ]
    },
    {
     "name": "stdout",
     "output_type": "stream",
     "text": [
      "Extracting files...\n",
      "Path to dataset files: /Users/mohandsabry/.cache/kagglehub/datasets/kelvinobiri/credit-card-transactions/versions/1\n"
     ]
    },
    {
     "name": "stderr",
     "output_type": "stream",
     "text": [
      "\n"
     ]
    }
   ],
   "execution_count": 2
  },
  {
   "metadata": {
    "ExecuteTime": {
     "end_time": "2025-08-21T22:29:34.421929Z",
     "start_time": "2025-08-21T22:29:33.833456Z"
    }
   },
   "cell_type": "code",
   "source": [
    "import pandas  as pd\n",
    "data=pd.read_csv(path + \"/transactions.csv\")\n",
    "data.info()"
   ],
   "id": "f7a9bcb1ff04bdbf",
   "outputs": [
    {
     "name": "stdout",
     "output_type": "stream",
     "text": [
      "<class 'pandas.core.frame.DataFrame'>\n",
      "RangeIndex: 199999 entries, 0 to 199998\n",
      "Data columns (total 10 columns):\n",
      " #   Column          Non-Null Count   Dtype  \n",
      "---  ------          --------------   -----  \n",
      " 0   step            199999 non-null  int64  \n",
      " 1   type            199999 non-null  object \n",
      " 2   amount          199999 non-null  float64\n",
      " 3   nameOrig        199999 non-null  object \n",
      " 4   oldbalanceOrg   199999 non-null  float64\n",
      " 5   newbalanceOrig  199999 non-null  float64\n",
      " 6   nameDest        199999 non-null  object \n",
      " 7   oldbalanceDest  199999 non-null  float64\n",
      " 8   newbalanceDest  199999 non-null  float64\n",
      " 9   isFraud         199999 non-null  int64  \n",
      "dtypes: float64(5), int64(2), object(3)\n",
      "memory usage: 15.3+ MB\n"
     ]
    }
   ],
   "execution_count": 3
  },
  {
   "metadata": {
    "ExecuteTime": {
     "end_time": "2025-08-21T22:29:46.450139Z",
     "start_time": "2025-08-21T22:29:46.349540Z"
    }
   },
   "cell_type": "code",
   "source": [
    "# Check for duplicates\n",
    "data.duplicated().sum()"
   ],
   "id": "8d6d5d5cb3eae0f4",
   "outputs": [
    {
     "data": {
      "text/plain": [
       "np.int64(0)"
      ]
     },
     "execution_count": 4,
     "metadata": {},
     "output_type": "execute_result"
    }
   ],
   "execution_count": 4
  },
  {
   "metadata": {
    "ExecuteTime": {
     "end_time": "2025-08-21T22:29:52.243576Z",
     "start_time": "2025-08-21T22:29:52.235415Z"
    }
   },
   "cell_type": "code",
   "source": [
    "# Check for balance\n",
    "data['isFraud'].value_counts(normalize=True)"
   ],
   "id": "1d746c5a57e593ba",
   "outputs": [
    {
     "data": {
      "text/plain": [
       "isFraud\n",
       "0    0.99859\n",
       "1    0.00141\n",
       "Name: proportion, dtype: float64"
      ]
     },
     "execution_count": 5,
     "metadata": {},
     "output_type": "execute_result"
    }
   ],
   "execution_count": 5
  },
  {
   "metadata": {
    "ExecuteTime": {
     "end_time": "2025-08-21T22:30:29.502494Z",
     "start_time": "2025-08-21T22:30:29.478524Z"
    }
   },
   "cell_type": "code",
   "source": "data.head()",
   "id": "395f22ec99ec93c6",
   "outputs": [
    {
     "data": {
      "text/plain": [
       "   step      type     amount     nameOrig  oldbalanceOrg  newbalanceOrig  \\\n",
       "0     8  CASH_OUT  158007.12   C424875646           0.00            0.00   \n",
       "1   236  CASH_OUT  457948.30  C1342616552           0.00            0.00   \n",
       "2    37   CASH_IN  153602.99   C900876541    11160428.67     11314031.67   \n",
       "3   331  CASH_OUT   49555.14   C177696810       10865.00            0.00   \n",
       "4   250  CASH_OUT   29648.02   C788941490           0.00            0.00   \n",
       "\n",
       "      nameDest  oldbalanceDest  newbalanceDest  isFraud  \n",
       "0  C1298177219       474016.32      1618631.97        0  \n",
       "1  C1323169990      2720411.37      3178359.67        0  \n",
       "2   C608741097      3274930.56      3121327.56        0  \n",
       "3   C462716348            0.00        49555.14        0  \n",
       "4  C1971700992        56933.09        86581.10        0  "
      ],
      "text/html": [
       "<div>\n",
       "<style scoped>\n",
       "    .dataframe tbody tr th:only-of-type {\n",
       "        vertical-align: middle;\n",
       "    }\n",
       "\n",
       "    .dataframe tbody tr th {\n",
       "        vertical-align: top;\n",
       "    }\n",
       "\n",
       "    .dataframe thead th {\n",
       "        text-align: right;\n",
       "    }\n",
       "</style>\n",
       "<table border=\"1\" class=\"dataframe\">\n",
       "  <thead>\n",
       "    <tr style=\"text-align: right;\">\n",
       "      <th></th>\n",
       "      <th>step</th>\n",
       "      <th>type</th>\n",
       "      <th>amount</th>\n",
       "      <th>nameOrig</th>\n",
       "      <th>oldbalanceOrg</th>\n",
       "      <th>newbalanceOrig</th>\n",
       "      <th>nameDest</th>\n",
       "      <th>oldbalanceDest</th>\n",
       "      <th>newbalanceDest</th>\n",
       "      <th>isFraud</th>\n",
       "    </tr>\n",
       "  </thead>\n",
       "  <tbody>\n",
       "    <tr>\n",
       "      <th>0</th>\n",
       "      <td>8</td>\n",
       "      <td>CASH_OUT</td>\n",
       "      <td>158007.12</td>\n",
       "      <td>C424875646</td>\n",
       "      <td>0.00</td>\n",
       "      <td>0.00</td>\n",
       "      <td>C1298177219</td>\n",
       "      <td>474016.32</td>\n",
       "      <td>1618631.97</td>\n",
       "      <td>0</td>\n",
       "    </tr>\n",
       "    <tr>\n",
       "      <th>1</th>\n",
       "      <td>236</td>\n",
       "      <td>CASH_OUT</td>\n",
       "      <td>457948.30</td>\n",
       "      <td>C1342616552</td>\n",
       "      <td>0.00</td>\n",
       "      <td>0.00</td>\n",
       "      <td>C1323169990</td>\n",
       "      <td>2720411.37</td>\n",
       "      <td>3178359.67</td>\n",
       "      <td>0</td>\n",
       "    </tr>\n",
       "    <tr>\n",
       "      <th>2</th>\n",
       "      <td>37</td>\n",
       "      <td>CASH_IN</td>\n",
       "      <td>153602.99</td>\n",
       "      <td>C900876541</td>\n",
       "      <td>11160428.67</td>\n",
       "      <td>11314031.67</td>\n",
       "      <td>C608741097</td>\n",
       "      <td>3274930.56</td>\n",
       "      <td>3121327.56</td>\n",
       "      <td>0</td>\n",
       "    </tr>\n",
       "    <tr>\n",
       "      <th>3</th>\n",
       "      <td>331</td>\n",
       "      <td>CASH_OUT</td>\n",
       "      <td>49555.14</td>\n",
       "      <td>C177696810</td>\n",
       "      <td>10865.00</td>\n",
       "      <td>0.00</td>\n",
       "      <td>C462716348</td>\n",
       "      <td>0.00</td>\n",
       "      <td>49555.14</td>\n",
       "      <td>0</td>\n",
       "    </tr>\n",
       "    <tr>\n",
       "      <th>4</th>\n",
       "      <td>250</td>\n",
       "      <td>CASH_OUT</td>\n",
       "      <td>29648.02</td>\n",
       "      <td>C788941490</td>\n",
       "      <td>0.00</td>\n",
       "      <td>0.00</td>\n",
       "      <td>C1971700992</td>\n",
       "      <td>56933.09</td>\n",
       "      <td>86581.10</td>\n",
       "      <td>0</td>\n",
       "    </tr>\n",
       "  </tbody>\n",
       "</table>\n",
       "</div>"
      ]
     },
     "execution_count": 6,
     "metadata": {},
     "output_type": "execute_result"
    }
   ],
   "execution_count": 6
  },
  {
   "metadata": {
    "ExecuteTime": {
     "end_time": "2025-08-21T22:31:13.818673Z",
     "start_time": "2025-08-21T22:31:13.796951Z"
    }
   },
   "cell_type": "code",
   "source": [
    "# Drop Irrelevant columns\n",
    "data.drop(columns=['nameOrig', 'nameDest'], inplace=True)"
   ],
   "id": "7ed40747281d1263",
   "outputs": [],
   "execution_count": 7
  },
  {
   "metadata": {
    "ExecuteTime": {
     "end_time": "2025-08-21T22:44:03.025873Z",
     "start_time": "2025-08-21T22:44:02.936420Z"
    }
   },
   "cell_type": "code",
   "source": [
    "from sklearn.model_selection import train_test_split\n",
    "X= data.drop(columns=['isFraud'])\n",
    "y=data['isFraud']\n",
    "X_train, X_temp, y_train, y_temp = train_test_split(\n",
    "    X, y, test_size=0.3, random_state=42, stratify=y\n",
    ")\n",
    "\n",
    "X_val, X_test, y_val, y_test = train_test_split(\n",
    "    X_temp, y_temp, test_size=0.5, random_state=42, stratify=y_temp\n",
    ")\n",
    "\n",
    "print(\"Train shape:\", X_train.shape)\n",
    "print(\"Validation shape:\", X_val.shape)\n",
    "print(\"Test shape:\", X_test.shape)"
   ],
   "id": "89ced0233f15f96f",
   "outputs": [
    {
     "name": "stdout",
     "output_type": "stream",
     "text": [
      "Train shape: (139999, 7)\n",
      "Validation shape: (30000, 7)\n",
      "Test shape: (30000, 7)\n"
     ]
    }
   ],
   "execution_count": 11
  },
  {
   "metadata": {
    "ExecuteTime": {
     "end_time": "2025-08-21T22:44:50.724660Z",
     "start_time": "2025-08-21T22:44:50.707987Z"
    }
   },
   "cell_type": "code",
   "source": [
    "print(\"Class distribution in Training set:\")\n",
    "print(y_train.value_counts(normalize=True))\n",
    "\n",
    "print(\"\\nClass distribution in Validation set:\")\n",
    "print(y_val.value_counts(normalize=True))\n",
    "\n",
    "print(\"\\nClass distribution in Test set:\")\n",
    "print(y_test.value_counts(normalize=True))"
   ],
   "id": "8565d9c29c9f68f2",
   "outputs": [
    {
     "name": "stdout",
     "output_type": "stream",
     "text": [
      "Class distribution in Training set:\n",
      "isFraud\n",
      "0    0.998593\n",
      "1    0.001407\n",
      "Name: proportion, dtype: float64\n",
      "\n",
      "Class distribution in Validation set:\n",
      "isFraud\n",
      "0    0.998567\n",
      "1    0.001433\n",
      "Name: proportion, dtype: float64\n",
      "\n",
      "Class distribution in Test set:\n",
      "isFraud\n",
      "0    0.9986\n",
      "1    0.0014\n",
      "Name: proportion, dtype: float64\n"
     ]
    }
   ],
   "execution_count": 12
  },
  {
   "metadata": {
    "ExecuteTime": {
     "end_time": "2025-08-21T22:50:19.449434Z",
     "start_time": "2025-08-21T22:50:19.267466Z"
    }
   },
   "cell_type": "code",
   "source": [
    "from sklearn.preprocessing import StandardScaler,OneHotEncoder\n",
    "from sklearn.compose import ColumnTransformer\n",
    "from sklearn.pipeline import Pipeline\n",
    "categorical_features = ['type']\n",
    "numeric_features = [col for col in X_train.columns if col not in categorical_features]\n"
   ],
   "id": "deb5210c487e9a85",
   "outputs": [],
   "execution_count": 13
  },
  {
   "metadata": {
    "ExecuteTime": {
     "end_time": "2025-08-21T22:50:23.744293Z",
     "start_time": "2025-08-21T22:50:23.741440Z"
    }
   },
   "cell_type": "code",
   "source": [
    "# Define transformers\n",
    "categorical_transformer = OneHotEncoder(handle_unknown='ignore')\n",
    "numeric_transformer = StandardScaler()"
   ],
   "id": "79e46f9e2585f414",
   "outputs": [],
   "execution_count": 14
  },
  {
   "metadata": {
    "ExecuteTime": {
     "end_time": "2025-08-21T22:50:41.317694Z",
     "start_time": "2025-08-21T22:50:41.307133Z"
    }
   },
   "cell_type": "code",
   "source": [
    "# Combine them into a ColumnTransformer\n",
    "preprocessor = ColumnTransformer(\n",
    "    transformers=[\n",
    "        ('cat', categorical_transformer, categorical_features),\n",
    "        ('num', numeric_transformer, numeric_features)\n",
    "    ]\n",
    ")\n"
   ],
   "id": "e6860779fc9a7491",
   "outputs": [],
   "execution_count": 15
  },
  {
   "metadata": {
    "ExecuteTime": {
     "end_time": "2025-08-21T22:50:53.939154Z",
     "start_time": "2025-08-21T22:50:53.843834Z"
    }
   },
   "cell_type": "code",
   "source": [
    "# Fit only on training set, transform all\n",
    "X_train_prep = preprocessor.fit_transform(X_train)\n",
    "X_val_prep = preprocessor.transform(X_val)\n",
    "X_test_prep = preprocessor.transform(X_test)\n",
    "\n",
    "print(\"Train transformed shape:\", X_train_prep.shape)\n",
    "print(\"Validation transformed shape:\", X_val_prep.shape)\n",
    "print(\"Test transformed shape:\", X_test_prep.shape)"
   ],
   "id": "77e71af19778423e",
   "outputs": [
    {
     "name": "stdout",
     "output_type": "stream",
     "text": [
      "Train transformed shape: (139999, 11)\n",
      "Validation transformed shape: (30000, 11)\n",
      "Test transformed shape: (30000, 11)\n"
     ]
    }
   ],
   "execution_count": 16
  },
  {
   "metadata": {
    "ExecuteTime": {
     "end_time": "2025-08-21T22:52:47.610237Z",
     "start_time": "2025-08-21T22:52:42.598582Z"
    }
   },
   "cell_type": "code",
   "source": [
    "from sklearn.ensemble import RandomForestClassifier\n",
    "from sklearn.metrics import classification_report\n",
    "rf = RandomForestClassifier(\n",
    "    n_estimators=200,\n",
    "    random_state=42,\n",
    "    class_weight='balanced_subsample',\n",
    "    n_jobs=-1\n",
    ")\n",
    "rf.fit(X_train_prep, y_train)\n",
    "\n",
    "y_val_pred = rf.predict(X_val_prep)\n",
    "\n",
    "print(\"Validation Results with RandomForest:\")\n",
    "print(classification_report(y_val, y_val_pred, digits=4))"
   ],
   "id": "215fefc750cfea77",
   "outputs": [
    {
     "name": "stdout",
     "output_type": "stream",
     "text": [
      "Validation Results with RandomForest:\n",
      "              precision    recall  f1-score   support\n",
      "\n",
      "           0     0.9996    1.0000    0.9998     29957\n",
      "           1     1.0000    0.7442    0.8533        43\n",
      "\n",
      "    accuracy                         0.9996     30000\n",
      "   macro avg     0.9998    0.8721    0.9266     30000\n",
      "weighted avg     0.9996    0.9996    0.9996     30000\n",
      "\n"
     ]
    }
   ],
   "execution_count": 17
  },
  {
   "metadata": {
    "ExecuteTime": {
     "end_time": "2025-08-21T22:53:35.803991Z",
     "start_time": "2025-08-21T22:53:35.716664Z"
    }
   },
   "cell_type": "code",
   "source": [
    "from sklearn.metrics import roc_auc_score\n",
    "\n",
    "y_val_proba = rf.predict_proba(X_val_prep)[:, 1]\n",
    "print(\"ROC AUC:\", roc_auc_score(y_val, y_val_proba))"
   ],
   "id": "5449a4cb6f263ddd",
   "outputs": [
    {
     "name": "stdout",
     "output_type": "stream",
     "text": [
      "ROC AUC: 0.9876664304107204\n"
     ]
    }
   ],
   "execution_count": 18
  },
  {
   "metadata": {
    "ExecuteTime": {
     "end_time": "2025-08-21T23:03:32.615521Z",
     "start_time": "2025-08-21T23:03:32.603363Z"
    }
   },
   "cell_type": "code",
   "source": [
    "def generate_random_transaction():\n",
    "    # 80% normal, 20% suspicious (likely fraud)\n",
    "    if np.random.rand() < 0.2:\n",
    "        # suspicious transaction (high amount, unusual balances)\n",
    "        amount = np.random.uniform(5000, 20000)\n",
    "        oldbalanceOrg = np.random.uniform(0, 1000)\n",
    "        newbalanceOrig = np.random.uniform(0, 1000)\n",
    "    else:\n",
    "        # normal transaction\n",
    "        amount = np.random.uniform(10, 5000)\n",
    "        oldbalanceOrg = np.random.uniform(0, 50000)\n",
    "        newbalanceOrig = np.random.uniform(0, 50000)\n",
    "\n",
    "    random_data = pd.DataFrame({\n",
    "        'step': [np.random.randint(1, 744)],\n",
    "        'type': [np.random.choice(['PAYMENT', 'TRANSFER', 'CASH_OUT', 'DEBIT', 'CASH_IN'])],\n",
    "        'amount': [amount],\n",
    "        'oldbalanceOrg': [oldbalanceOrg],\n",
    "        'newbalanceOrig': [newbalanceOrig],\n",
    "        'oldbalanceDest': [np.random.uniform(0, 100000)],\n",
    "        'newbalanceDest': [np.random.uniform(0, 100000)]\n",
    "    })\n",
    "\n",
    "    return random_data\n"
   ],
   "id": "95a91cf54d315628",
   "outputs": [],
   "execution_count": 30
  },
  {
   "metadata": {
    "ExecuteTime": {
     "end_time": "2025-08-21T23:05:13.569511Z",
     "start_time": "2025-08-21T23:05:13.495673Z"
    }
   },
   "cell_type": "code",
   "source": [
    "import numpy as np\n",
    "# Generate and test a random transaction\n",
    "random_data = generate_random_transaction()\n",
    "print(\"Random input transaction:\")\n",
    "print(random_data)\n",
    "\n",
    "# Preprocess and predict\n",
    "random_data_prep = preprocessor.transform(random_data)\n",
    "pred_label = rf.predict(random_data_prep)\n",
    "pred_proba = rf.predict_proba(random_data_prep)[:, 1]\n",
    "\n",
    "print(\"\\nPredicted label:\", pred_label[0])\n",
    "print(\"Predicted probability of fraud:\", pred_proba[0])"
   ],
   "id": "2a30cbe4713f1ded",
   "outputs": [
    {
     "name": "stdout",
     "output_type": "stream",
     "text": [
      "Random input transaction:\n",
      "   step      type       amount  oldbalanceOrg  newbalanceOrig  oldbalanceDest  \\\n",
      "0   494  TRANSFER  1558.274016   42804.865904    14382.122403    51909.901916   \n",
      "\n",
      "   newbalanceDest  \n",
      "0    95032.159572  \n",
      "\n",
      "Predicted label: 0\n",
      "Predicted probability of fraud: 0.005\n"
     ]
    }
   ],
   "execution_count": 76
  }
 ],
 "metadata": {
  "kernelspec": {
   "display_name": "Python 3",
   "language": "python",
   "name": "python3"
  },
  "language_info": {
   "codemirror_mode": {
    "name": "ipython",
    "version": 2
   },
   "file_extension": ".py",
   "mimetype": "text/x-python",
   "name": "python",
   "nbconvert_exporter": "python",
   "pygments_lexer": "ipython2",
   "version": "2.7.6"
  }
 },
 "nbformat": 4,
 "nbformat_minor": 5
}
