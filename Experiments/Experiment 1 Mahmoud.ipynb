{
 "cells": [
  {
   "metadata": {},
   "cell_type": "markdown",
   "source": "# Copied Notebook from bassam and did some changes by myself",
   "id": "f8b271d49373c442"
  },
  {
   "cell_type": "code",
   "id": "6e23883e",
   "metadata": {
    "ExecuteTime": {
     "end_time": "2025-08-19T01:41:51.673021Z",
     "start_time": "2025-08-19T01:41:51.159414Z"
    }
   },
   "source": [
    "from sklearn.preprocessing import LabelEncoder\n",
    "import pandas  as pd\n",
    "data=pd.read_csv(\"../Data/raw/transactions.csv\")\n",
    "print(\"Data shape:\", data.shape)"
   ],
   "outputs": [
    {
     "name": "stdout",
     "output_type": "stream",
     "text": [
      "Data shape: (199999, 10)\n"
     ]
    }
   ],
   "execution_count": 18
  },
  {
   "cell_type": "code",
   "id": "e9765065",
   "metadata": {
    "ExecuteTime": {
     "end_time": "2025-08-19T01:41:51.852466Z",
     "start_time": "2025-08-19T01:41:51.717240Z"
    }
   },
   "source": [
    "data.info()"
   ],
   "outputs": [
    {
     "name": "stdout",
     "output_type": "stream",
     "text": [
      "<class 'pandas.core.frame.DataFrame'>\n",
      "RangeIndex: 199999 entries, 0 to 199998\n",
      "Data columns (total 10 columns):\n",
      " #   Column          Non-Null Count   Dtype  \n",
      "---  ------          --------------   -----  \n",
      " 0   step            199999 non-null  int64  \n",
      " 1   type            199999 non-null  object \n",
      " 2   amount          199999 non-null  float64\n",
      " 3   nameOrig        199999 non-null  object \n",
      " 4   oldbalanceOrg   199999 non-null  float64\n",
      " 5   newbalanceOrig  199999 non-null  float64\n",
      " 6   nameDest        199999 non-null  object \n",
      " 7   oldbalanceDest  199999 non-null  float64\n",
      " 8   newbalanceDest  199999 non-null  float64\n",
      " 9   isFraud         199999 non-null  int64  \n",
      "dtypes: float64(5), int64(2), object(3)\n",
      "memory usage: 15.3+ MB\n"
     ]
    }
   ],
   "execution_count": 19
  },
  {
   "cell_type": "code",
   "id": "c6cfcb00",
   "metadata": {
    "ExecuteTime": {
     "end_time": "2025-08-19T01:41:52.146609Z",
     "start_time": "2025-08-19T01:41:51.880935Z"
    }
   },
   "source": [
    "# Check for duplicates\n",
    "data.duplicated().sum()"
   ],
   "outputs": [
    {
     "data": {
      "text/plain": [
       "0"
      ]
     },
     "execution_count": 20,
     "metadata": {},
     "output_type": "execute_result"
    }
   ],
   "execution_count": 20
  },
  {
   "metadata": {
    "ExecuteTime": {
     "end_time": "2025-08-19T01:41:52.263484Z",
     "start_time": "2025-08-19T01:41:52.252077Z"
    }
   },
   "cell_type": "code",
   "source": [
    "# Check for balance\n",
    "data['isFraud'].value_counts(normalize=True)"
   ],
   "id": "4629ef964b31e763",
   "outputs": [
    {
     "data": {
      "text/plain": [
       "0    0.99859\n",
       "1    0.00141\n",
       "Name: isFraud, dtype: float64"
      ]
     },
     "execution_count": 21,
     "metadata": {},
     "output_type": "execute_result"
    }
   ],
   "execution_count": 21
  },
  {
   "metadata": {
    "ExecuteTime": {
     "end_time": "2025-08-19T01:41:52.388020Z",
     "start_time": "2025-08-19T01:41:52.376115Z"
    }
   },
   "cell_type": "code",
   "source": "data['isFraud'].value_counts()",
   "id": "6af31db0add1f049",
   "outputs": [
    {
     "data": {
      "text/plain": [
       "0    199717\n",
       "1       282\n",
       "Name: isFraud, dtype: int64"
      ]
     },
     "execution_count": 22,
     "metadata": {},
     "output_type": "execute_result"
    }
   ],
   "execution_count": 22
  },
  {
   "metadata": {
    "ExecuteTime": {
     "end_time": "2025-08-19T01:41:53.444887Z",
     "start_time": "2025-08-19T01:41:53.436500Z"
    }
   },
   "cell_type": "code",
   "source": "data.columns",
   "id": "c22329108305d90b",
   "outputs": [
    {
     "data": {
      "text/plain": [
       "Index(['step', 'type', 'amount', 'nameOrig', 'oldbalanceOrg', 'newbalanceOrig',\n",
       "       'nameDest', 'oldbalanceDest', 'newbalanceDest', 'isFraud'],\n",
       "      dtype='object')"
      ]
     },
     "execution_count": 23,
     "metadata": {},
     "output_type": "execute_result"
    }
   ],
   "execution_count": 23
  },
  {
   "cell_type": "code",
   "id": "22c0acb6",
   "metadata": {
    "ExecuteTime": {
     "end_time": "2025-08-19T00:12:12.557990Z",
     "start_time": "2025-08-19T00:12:12.512336Z"
    }
   },
   "source": "data.head(5)",
   "outputs": [
    {
     "data": {
      "text/plain": [
       "   step      type     amount     nameOrig  oldbalanceOrg  newbalanceOrig  \\\n",
       "0     8  CASH_OUT  158007.12   C424875646           0.00            0.00   \n",
       "1   236  CASH_OUT  457948.30  C1342616552           0.00            0.00   \n",
       "2    37   CASH_IN  153602.99   C900876541    11160428.67     11314031.67   \n",
       "3   331  CASH_OUT   49555.14   C177696810       10865.00            0.00   \n",
       "4   250  CASH_OUT   29648.02   C788941490           0.00            0.00   \n",
       "\n",
       "      nameDest  oldbalanceDest  newbalanceDest  isFraud  \n",
       "0  C1298177219       474016.32      1618631.97        0  \n",
       "1  C1323169990      2720411.37      3178359.67        0  \n",
       "2   C608741097      3274930.56      3121327.56        0  \n",
       "3   C462716348            0.00        49555.14        0  \n",
       "4  C1971700992        56933.09        86581.10        0  "
      ],
      "text/html": [
       "<div>\n",
       "<style scoped>\n",
       "    .dataframe tbody tr th:only-of-type {\n",
       "        vertical-align: middle;\n",
       "    }\n",
       "\n",
       "    .dataframe tbody tr th {\n",
       "        vertical-align: top;\n",
       "    }\n",
       "\n",
       "    .dataframe thead th {\n",
       "        text-align: right;\n",
       "    }\n",
       "</style>\n",
       "<table border=\"1\" class=\"dataframe\">\n",
       "  <thead>\n",
       "    <tr style=\"text-align: right;\">\n",
       "      <th></th>\n",
       "      <th>step</th>\n",
       "      <th>type</th>\n",
       "      <th>amount</th>\n",
       "      <th>nameOrig</th>\n",
       "      <th>oldbalanceOrg</th>\n",
       "      <th>newbalanceOrig</th>\n",
       "      <th>nameDest</th>\n",
       "      <th>oldbalanceDest</th>\n",
       "      <th>newbalanceDest</th>\n",
       "      <th>isFraud</th>\n",
       "    </tr>\n",
       "  </thead>\n",
       "  <tbody>\n",
       "    <tr>\n",
       "      <th>0</th>\n",
       "      <td>8</td>\n",
       "      <td>CASH_OUT</td>\n",
       "      <td>158007.12</td>\n",
       "      <td>C424875646</td>\n",
       "      <td>0.00</td>\n",
       "      <td>0.00</td>\n",
       "      <td>C1298177219</td>\n",
       "      <td>474016.32</td>\n",
       "      <td>1618631.97</td>\n",
       "      <td>0</td>\n",
       "    </tr>\n",
       "    <tr>\n",
       "      <th>1</th>\n",
       "      <td>236</td>\n",
       "      <td>CASH_OUT</td>\n",
       "      <td>457948.30</td>\n",
       "      <td>C1342616552</td>\n",
       "      <td>0.00</td>\n",
       "      <td>0.00</td>\n",
       "      <td>C1323169990</td>\n",
       "      <td>2720411.37</td>\n",
       "      <td>3178359.67</td>\n",
       "      <td>0</td>\n",
       "    </tr>\n",
       "    <tr>\n",
       "      <th>2</th>\n",
       "      <td>37</td>\n",
       "      <td>CASH_IN</td>\n",
       "      <td>153602.99</td>\n",
       "      <td>C900876541</td>\n",
       "      <td>11160428.67</td>\n",
       "      <td>11314031.67</td>\n",
       "      <td>C608741097</td>\n",
       "      <td>3274930.56</td>\n",
       "      <td>3121327.56</td>\n",
       "      <td>0</td>\n",
       "    </tr>\n",
       "    <tr>\n",
       "      <th>3</th>\n",
       "      <td>331</td>\n",
       "      <td>CASH_OUT</td>\n",
       "      <td>49555.14</td>\n",
       "      <td>C177696810</td>\n",
       "      <td>10865.00</td>\n",
       "      <td>0.00</td>\n",
       "      <td>C462716348</td>\n",
       "      <td>0.00</td>\n",
       "      <td>49555.14</td>\n",
       "      <td>0</td>\n",
       "    </tr>\n",
       "    <tr>\n",
       "      <th>4</th>\n",
       "      <td>250</td>\n",
       "      <td>CASH_OUT</td>\n",
       "      <td>29648.02</td>\n",
       "      <td>C788941490</td>\n",
       "      <td>0.00</td>\n",
       "      <td>0.00</td>\n",
       "      <td>C1971700992</td>\n",
       "      <td>56933.09</td>\n",
       "      <td>86581.10</td>\n",
       "      <td>0</td>\n",
       "    </tr>\n",
       "  </tbody>\n",
       "</table>\n",
       "</div>"
      ]
     },
     "execution_count": 6,
     "metadata": {},
     "output_type": "execute_result"
    }
   ],
   "execution_count": 6
  },
  {
   "cell_type": "code",
   "id": "dc6afcc3",
   "metadata": {
    "ExecuteTime": {
     "end_time": "2025-08-19T00:12:12.892042Z",
     "start_time": "2025-08-19T00:12:12.714155Z"
    }
   },
   "source": [
    "print(data.nameOrig.unique().shape)\n",
    "print(data.nameDest.unique().shape)"
   ],
   "outputs": [
    {
     "name": "stdout",
     "output_type": "stream",
     "text": [
      "(199990,)\n",
      "(174523,)\n"
     ]
    }
   ],
   "execution_count": 7
  },
  {
   "cell_type": "markdown",
   "id": "5d9ebf4e",
   "metadata": {},
   "source": [
    "### Conclusion\n",
    "- `isFraud` Classes are very imbalanced - (99.9% to 0.0001%)\n",
    "- No `null/missing` values\n",
    "- Too many unique values"
   ]
  },
  {
   "cell_type": "markdown",
   "id": "02965514",
   "metadata": {},
   "source": "- \"clear imbalance classes case here. Random Forest will take care of this shit, ion get paid enough for this nonsense\" - Bassam"
  },
  {
   "metadata": {
    "ExecuteTime": {
     "end_time": "2025-08-19T00:16:49.446254Z",
     "start_time": "2025-08-19T00:16:49.433085Z"
    }
   },
   "cell_type": "code",
   "source": [
    "# Drop Irrelevant columns\n",
    "data.drop(columns=['nameOrig', 'nameDest'], inplace=True)"
   ],
   "id": "e4605833",
   "outputs": [],
   "execution_count": 9
  },
  {
   "cell_type": "code",
   "id": "fb878240",
   "metadata": {
    "ExecuteTime": {
     "end_time": "2025-08-19T00:16:49.505448Z",
     "start_time": "2025-08-19T00:16:49.456225Z"
    }
   },
   "source": [
    "le = LabelEncoder()\n",
    "\n",
    "data['type'] = le.fit_transform(data['type'])"
   ],
   "outputs": [],
   "execution_count": 10
  },
  {
   "cell_type": "code",
   "id": "81a44893",
   "metadata": {
    "ExecuteTime": {
     "end_time": "2025-08-19T00:16:49.545711Z",
     "start_time": "2025-08-19T00:16:49.528085Z"
    }
   },
   "source": "data.head()",
   "outputs": [
    {
     "data": {
      "text/plain": [
       "   step  type     amount  oldbalanceOrg  newbalanceOrig  oldbalanceDest  \\\n",
       "0     8     1  158007.12           0.00            0.00       474016.32   \n",
       "1   236     1  457948.30           0.00            0.00      2720411.37   \n",
       "2    37     0  153602.99    11160428.67     11314031.67      3274930.56   \n",
       "3   331     1   49555.14       10865.00            0.00            0.00   \n",
       "4   250     1   29648.02           0.00            0.00        56933.09   \n",
       "\n",
       "   newbalanceDest  isFraud  \n",
       "0      1618631.97        0  \n",
       "1      3178359.67        0  \n",
       "2      3121327.56        0  \n",
       "3        49555.14        0  \n",
       "4        86581.10        0  "
      ],
      "text/html": [
       "<div>\n",
       "<style scoped>\n",
       "    .dataframe tbody tr th:only-of-type {\n",
       "        vertical-align: middle;\n",
       "    }\n",
       "\n",
       "    .dataframe tbody tr th {\n",
       "        vertical-align: top;\n",
       "    }\n",
       "\n",
       "    .dataframe thead th {\n",
       "        text-align: right;\n",
       "    }\n",
       "</style>\n",
       "<table border=\"1\" class=\"dataframe\">\n",
       "  <thead>\n",
       "    <tr style=\"text-align: right;\">\n",
       "      <th></th>\n",
       "      <th>step</th>\n",
       "      <th>type</th>\n",
       "      <th>amount</th>\n",
       "      <th>oldbalanceOrg</th>\n",
       "      <th>newbalanceOrig</th>\n",
       "      <th>oldbalanceDest</th>\n",
       "      <th>newbalanceDest</th>\n",
       "      <th>isFraud</th>\n",
       "    </tr>\n",
       "  </thead>\n",
       "  <tbody>\n",
       "    <tr>\n",
       "      <th>0</th>\n",
       "      <td>8</td>\n",
       "      <td>1</td>\n",
       "      <td>158007.12</td>\n",
       "      <td>0.00</td>\n",
       "      <td>0.00</td>\n",
       "      <td>474016.32</td>\n",
       "      <td>1618631.97</td>\n",
       "      <td>0</td>\n",
       "    </tr>\n",
       "    <tr>\n",
       "      <th>1</th>\n",
       "      <td>236</td>\n",
       "      <td>1</td>\n",
       "      <td>457948.30</td>\n",
       "      <td>0.00</td>\n",
       "      <td>0.00</td>\n",
       "      <td>2720411.37</td>\n",
       "      <td>3178359.67</td>\n",
       "      <td>0</td>\n",
       "    </tr>\n",
       "    <tr>\n",
       "      <th>2</th>\n",
       "      <td>37</td>\n",
       "      <td>0</td>\n",
       "      <td>153602.99</td>\n",
       "      <td>11160428.67</td>\n",
       "      <td>11314031.67</td>\n",
       "      <td>3274930.56</td>\n",
       "      <td>3121327.56</td>\n",
       "      <td>0</td>\n",
       "    </tr>\n",
       "    <tr>\n",
       "      <th>3</th>\n",
       "      <td>331</td>\n",
       "      <td>1</td>\n",
       "      <td>49555.14</td>\n",
       "      <td>10865.00</td>\n",
       "      <td>0.00</td>\n",
       "      <td>0.00</td>\n",
       "      <td>49555.14</td>\n",
       "      <td>0</td>\n",
       "    </tr>\n",
       "    <tr>\n",
       "      <th>4</th>\n",
       "      <td>250</td>\n",
       "      <td>1</td>\n",
       "      <td>29648.02</td>\n",
       "      <td>0.00</td>\n",
       "      <td>0.00</td>\n",
       "      <td>56933.09</td>\n",
       "      <td>86581.10</td>\n",
       "      <td>0</td>\n",
       "    </tr>\n",
       "  </tbody>\n",
       "</table>\n",
       "</div>"
      ]
     },
     "execution_count": 11,
     "metadata": {},
     "output_type": "execute_result"
    }
   ],
   "execution_count": 11
  },
  {
   "cell_type": "code",
   "id": "255bcf9a",
   "metadata": {
    "ExecuteTime": {
     "end_time": "2025-08-19T00:16:51.068114Z",
     "start_time": "2025-08-19T00:16:49.708467Z"
    }
   },
   "source": "data.to_csv(\"../Data/processed/processed.csv\", index=False)",
   "outputs": [],
   "execution_count": 12
  }
 ],
 "metadata": {
  "kernelspec": {
   "display_name": "Python 3",
   "language": "python",
   "name": "python3"
  },
  "language_info": {
   "codemirror_mode": {
    "name": "ipython",
    "version": 3
   },
   "file_extension": ".py",
   "mimetype": "text/x-python",
   "name": "python",
   "nbconvert_exporter": "python",
   "pygments_lexer": "ipython3",
   "version": "3.11.5"
  }
 },
 "nbformat": 4,
 "nbformat_minor": 5
}
